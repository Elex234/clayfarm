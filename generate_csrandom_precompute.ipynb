{
 "cells": [
  {
   "cell_type": "code",
   "execution_count": 1,
   "metadata": {},
   "outputs": [],
   "source": [
    "# Csharp random is dumb, so we have to reimplement it's RNG here\n",
    "class CSRandom():\n",
    "    def __init__(self,seed):\n",
    "        # initialize\n",
    "        self.MAX_INT = 0x7FFFFFFF\n",
    "        self.MIN_INT = 0x80000000\n",
    "        self.seed = seed\n",
    "        MSEED = 0x09A4EC86\n",
    "        seedarray = [0]*56\n",
    "\n",
    "        sub = self.MAX_INT if (seed == self.MIN_INT) else abs(seed)\n",
    "        mj = MSEED - sub\n",
    "\n",
    "        seedarray[55] = mj\n",
    "        mk = 1\n",
    "        for i in range(1,55):\n",
    "            ii = (21*i)%55\n",
    "            seedarray[ii] = mk\n",
    "            mk = mj - mk\n",
    "            if mk < 0:\n",
    "                mk += self.MAX_INT\n",
    "            mj=seedarray[ii]\n",
    "\n",
    "        for k in range(1,5):\n",
    "            for i in range(1,56):\n",
    "                seedarray[i] -= seedarray[1+(i+30)%55]\n",
    "                if i == 47:\n",
    "                    i = 47\n",
    "                while seedarray[i] < 0:\n",
    "                    seedarray[i]+=self.MAX_INT\n",
    "        self._inext = 0\n",
    "        self._inextp = 21\n",
    "        self._seed = 1\n",
    "        self._seedarray = seedarray\n",
    "\n",
    "    def __sample(self):\n",
    "        locINext = self._inext\n",
    "        locINextp = self._inextp\n",
    "\n",
    "        locINext = 1 if (locINext+1 >= 56) else locINext+1\n",
    "        locINextp = 1 if (locINextp+1 >= 56) else locINextp+1\n",
    "\n",
    "        retVal = self._seedarray[locINext]-self._seedarray[locINextp]\n",
    "        if retVal > self.MAX_INT:\n",
    "            retVal -= self.MAX_INT\n",
    "        if retVal == self.MAX_INT: \n",
    "            retVal -= 1\n",
    "        if retVal < 0:\n",
    "            retVal += self.MAX_INT\n",
    "\n",
    "        self._seedarray[locINext] = retVal\n",
    "\n",
    "        self._inext = locINext\n",
    "        self._inextp = locINextp\n",
    "\n",
    "        return retVal\n",
    "\n",
    "    def __sample_lr(self):\n",
    "        res = self.__sample()\n",
    "        if self.__sample() % 2 == 0:\n",
    "                res = -res\n",
    "        return (res + self.MAX_INT - 1)/(2.0*self.MAX_INT-1)\n",
    "\n",
    "    def Sample(self):\n",
    "        return self.__sample()*(1.0/self.MAX_INT)\n",
    "\n",
    "    def Next(self,minVal=0.5,maxVal=0.5):\n",
    "        if minVal == 0.5 and maxVal == 0.5:\n",
    "            return self.__sample()\n",
    "        elif minVal != 0.5 and maxVal == 0.5:\n",
    "            return int(self.Sample()*minVal)\n",
    "        else:\n",
    "            ran = maxVal - minVal\n",
    "            if ran <= self.MAX_INT :\n",
    "                return int(ran*self.Sample()) + minVal\n",
    "            else:\n",
    "                return int(ran*self.__sample_lr()) + minVal\n"
   ]
  },
  {
   "cell_type": "code",
   "execution_count": 2,
   "metadata": {},
   "outputs": [],
   "source": [
    "mod1diff = lambda x,y: (1+y-x)%1"
   ]
  },
  {
   "cell_type": "code",
   "execution_count": 4,
   "metadata": {},
   "outputs": [],
   "source": [
    "intercepts = []\n",
    "offsets = []\n",
    "# test at a small seed\n",
    "a = CSRandom(0)\n",
    "b = CSRandom(1)\n",
    "# test at a really large seed\n",
    "c = CSRandom(891323991)\n",
    "d = CSRandom(891323992)\n",
    "max_count = 10000\n",
    "idx = 0\n",
    "while idx < max_count:\n",
    "    x, y, r, s = a.Sample(), b.Sample(), c.Sample(), d.Sample()\n",
    "    intercepts.append(x)\n",
    "    \n",
    "    off = (mod1diff(x,y) + mod1diff(r,s))/2\n",
    "    offsets.append(off)\n",
    "    idx += 1\n",
    "    \n",
    "seed = 145131\n",
    "r = CSRandom(seed)\n",
    "idx = 0\n",
    "diff = []\n",
    "while idx < max_count:\n",
    "    m = r.Sample()\n",
    "    n = (intercepts[idx] + seed*offsets[idx])%1\n",
    "    diff.append(m-n)\n",
    "    idx += 1"
   ]
  },
  {
   "cell_type": "code",
   "execution_count": 5,
   "metadata": {},
   "outputs": [
    {
     "data": {
      "text/plain": [
       "(4.8794135398821936e-11, -5.145905923598093e-11)"
      ]
     },
     "execution_count": 5,
     "metadata": {},
     "output_type": "execute_result"
    }
   ],
   "source": [
    "max(diff),min(diff)"
   ]
  },
  {
   "cell_type": "code",
   "execution_count": 6,
   "metadata": {},
   "outputs": [],
   "source": [
    "intercept_str = ','.join(['%.16f' % i for i in intercepts])\n",
    "offset_str = ','.join(['%.16f' % o for o in offsets])\n",
    "\n",
    "file_contents = f\"\"\"\n",
    "import numpy as np\n",
    "class CSRandomPrecomputed:\n",
    "    _intercepts = np.array([{intercept_str}])\n",
    "    _offsets = np.array([{offset_str}])\n",
    "    MAX_INT = 0x7FFFFFFF\n",
    "    MIN_INT = 0x80000000\n",
    "    def __init__(self, seed):\n",
    "        self.seed = abs(seed)\n",
    "        if self.seed > 0x7FFFFFFF:\n",
    "            self.seed = self.seed - 0x7FFFFFFF\n",
    "        self.index = 0\n",
    "\n",
    "    def Sample(self):\n",
    "        if self.index >= {len(intercepts)}:\n",
    "            raise IndexError('CSRandomPrecomputed works for less than {len(intercepts)} consecutive rng calls, use CSRandom if need to maintain long term state')\n",
    "        val = (self.seed * self._offsets[self.index] + self._intercepts[self.index]) % 1\n",
    "        self.index += 1\n",
    "        return val\n",
    "\n",
    "    def Next(self, minVal=0.5, maxVal=0.5):\n",
    "        if minVal != 0.5 and maxVal == 0.5:\n",
    "            if minVal < 0:\n",
    "                raise ValueError('range must be positive')\n",
    "            return int(self.Sample() * minVal)\n",
    "        else:\n",
    "            ran = maxVal - minVal\n",
    "            if ran > self.MAX_INT:\n",
    "                raise ValueError('Cannot handle ranges over negative numbers')\n",
    "            return int(self.Sample() * ran) + minVal\n",
    "\"\"\"\n",
    "with open('CSRandomPrecomputed.py','w') as f:\n",
    "    f.write(file_contents)"
   ]
  },
  {
   "cell_type": "code",
   "execution_count": 12,
   "metadata": {},
   "outputs": [
    {
     "name": "stdout",
     "output_type": "stream",
     "text": [
      "Maximum difference:  2.615527794347372e-09\n"
     ]
    }
   ],
   "source": [
    "from CSRandomPrecomputed import CSRandomPrecomputed\n",
    "\n",
    "seed = 8199231\n",
    "a = CSRandomPrecomputed(seed)\n",
    "b = CSRandom(seed)\n",
    "\n",
    "idx = 0\n",
    "max_diff = 0\n",
    "try:\n",
    "    while idx < 10000:\n",
    "        x = a.Sample()\n",
    "        y = b.Sample()\n",
    "        assert abs(x-y) < 1e-8\n",
    "        max_diff = max_diff if abs(x-y) < max_diff else abs(x-y)\n",
    "        idx += 1\n",
    "    print('Maximum difference: ', max_diff)\n",
    "except:\n",
    "    print(f'Failed to match variables: index {idx} -> ({x}) vs ({y}), d: {x-y}')"
   ]
  },
  {
   "cell_type": "code",
   "execution_count": null,
   "metadata": {},
   "outputs": [],
   "source": []
  }
 ],
 "metadata": {
  "kernelspec": {
   "display_name": "Python 3",
   "language": "python",
   "name": "python3"
  },
  "language_info": {
   "codemirror_mode": {
    "name": "ipython",
    "version": 3
   },
   "file_extension": ".py",
   "mimetype": "text/x-python",
   "name": "python",
   "nbconvert_exporter": "python",
   "pygments_lexer": "ipython3",
   "version": "3.7.3"
  }
 },
 "nbformat": 4,
 "nbformat_minor": 2
}
