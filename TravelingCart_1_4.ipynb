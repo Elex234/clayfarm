{
 "cells": [
  {
   "cell_type": "code",
   "execution_count": 1,
   "metadata": {},
   "outputs": [],
   "source": [
    "import json\n",
    "from itertools import chain\n",
    "import sys\n",
    "from CSRandom import CSRandom as CSRandomSlow, CSRandomLite as CSRandomFast\n",
    "import time\n",
    "from joblib import Parallel, delayed\n",
    "from collections import OrderedDict"
   ]
  },
  {
   "cell_type": "markdown",
   "metadata": {},
   "source": [
    "# Loading object data"
   ]
  },
  {
   "cell_type": "code",
   "execution_count": 2,
   "metadata": {},
   "outputs": [],
   "source": [
    "with open('ObjectInformation.json','r') as f:\n",
    "    ObjectInfo = json.load(f)['content']\n",
    "ObjectInfo = dict(zip(map(lambda x:int(x),ObjectInfo.keys()),map(lambda x: x.split('/'),ObjectInfo.values())))\n",
    "for key in ObjectInfo.keys():\n",
    "    ObjectInfo[key][1] = int(ObjectInfo[key][1])\n",
    "ObjectInfo[174][0] = 'Large EggW'\n",
    "ObjectInfo[182][0] = 'Large EggB'"
   ]
  },
  {
   "cell_type": "code",
   "execution_count": 3,
   "metadata": {},
   "outputs": [],
   "source": [
    "objectsOffLimits = [79, 158, 159, 160, 161, 162, 163, 261, 277, 279,\n",
    "                   305, 308, 326, 341, 413, 417, 437, 439, 447, 454, \n",
    "                   460, 645, 680, 681, 682, 688, 689, 690, 774, 775,\n",
    "                   797, 798, 799, 800, 801, 802, 803, 807, 812]\n",
    "validObjects = set()\n",
    "for key,array in ObjectInfo.items():\n",
    "    if '-' in array[3] and array[1] > 0 and '-13' not in array[3] and 'Quest' != array[3] \\\n",
    "        and 'Weeds' != array[0] and 'Minerals' not in array[3] and 'Arch' not in array[3]:\n",
    "        if key < 790 and key not in objectsOffLimits:\n",
    "            validObjects.add(key)\n",
    "\n",
    "ObjectIDFromName = dict(zip([obj[0] for obj in ObjectInfo.values()], ObjectInfo.keys()))"
   ]
  },
  {
   "cell_type": "markdown",
   "metadata": {},
   "source": [
    "# Function Defs"
   ]
  },
  {
   "cell_type": "code",
   "execution_count": 4,
   "metadata": {},
   "outputs": [],
   "source": [
    "def convertBundles(bundles):\n",
    "    # convert bundles addressed by name to IDs\n",
    "    bundle_by_ids = []\n",
    "    for bundle in bundles:\n",
    "        items = bundle[0]\n",
    "        count = bundle[1]\n",
    "        bundle_by_ids.append([[ObjectIDFromName[name] for name in items],count])\n",
    "    return bundle_by_ids"
   ]
  },
  {
   "cell_type": "code",
   "execution_count": 5,
   "metadata": {},
   "outputs": [],
   "source": [
    "def getTravelingMerchantStock_1_4(seed, CSRandom=CSRandomFast):\n",
    "    # check speed trial block below \n",
    "    # CSRandomSlow is 60% slower but it will always work\n",
    "    # CSRandomFast can only call Next 100 times due to implementation\n",
    "    # It's way faster to try the fast random until it crashes and restart\n",
    "    # than it is to run the slow one by default across many seeds\n",
    "    try:\n",
    "        random = CSRandom(seed)\n",
    "        currentStock = dict()\n",
    "        for i in range(10):\n",
    "            num = random.Next(2, 790)\n",
    "            while True:\n",
    "                num = (num+1) % 790;\n",
    "                if num in validObjects:\n",
    "                    cost = max(random.Next(1,11)* 100, ObjectInfo[num][1]*random.Next(3,6))\n",
    "                    qty = 1 if not (random.Sample() < 0.1) else 5\n",
    "                    if num not in currentStock:\n",
    "                        currentStock[num] = [cost,qty]\n",
    "                        break\n",
    "        return currentStock\n",
    "    except:\n",
    "        # we must've hit over 100 random calls, need to revert to the slow version\n",
    "        return getTravelingMerchantStock_1_4(seed, CSRandomSlow)\n"
   ]
  },
  {
   "cell_type": "code",
   "execution_count": 6,
   "metadata": {},
   "outputs": [],
   "source": [
    "def satisfyBundle(stocks, bundle):\n",
    "    all_items = set(chain.from_iterable([list(day.keys()) for day in stocks.values()]))\n",
    "    return len(all_items.intersection(bundle[0])) >= bundle[1]\n",
    "\n",
    "def satisfyAllBundles(stocks, bundles):\n",
    "    # check that every bundle has enough items found to be satisfied\n",
    "    all_items = set(chain.from_iterable([list(day.keys()) for day in stocks.values()]))\n",
    "    for bundle in bundles:\n",
    "        if len(all_items.intersection(bundle[0])) < bundle[1]:\n",
    "            return (False, bundle[0])\n",
    "    return (True,None)"
   ]
  },
  {
   "cell_type": "markdown",
   "metadata": {},
   "source": [
    "# How to search seeds fast.\n",
    "\n",
    "### What are we looking for? \n",
    "* We want a seed that has a set of items we want available within a set number of weeks\n",
    "* The game seeds the traveling cart by the uniqueIDForThisGame + DaysPlayed\n",
    "* This means that if we advance the unique id by 7, it's like we didn't check the first week on days 5 and 7, and instead did those checks later (tacking on a week at the end)\n",
    "* In this way, we can check a new seed by only computing two days worth of extra inventory, since all we have to do is remove those first two days from our data structure and append the next two days.\n",
    "* To capture all seeds, we need to create 7 seperate chains:\n",
    "    * 0->7->14->21->...\n",
    "    * 1->8->15->22->...\n",
    "    * ...\n",
    "    * 6->13->20->27->...\n",
    "* And then we evaluate each chain by traversing so many weeks forward in time"
   ]
  },
  {
   "cell_type": "code",
   "execution_count": 7,
   "metadata": {},
   "outputs": [],
   "source": [
    "def getInitialCarts(seed, days):    \n",
    "    return OrderedDict(zip(days, [getTravelingMerchantStock_1_4(seed+d) for d in days]))\n",
    "\n",
    "def rollToNextSeeds(stocks, newSeeds):\n",
    "    # replace old days with new days by popping the earliest elements\n",
    "    # removing (7*i+5 + seed, 7*(i+1) + seed) and adding two new ones\n",
    "    for _ in range(len(newSeeds)):\n",
    "        stocks.popitem(False)\n",
    "    stocks.update({seed:getTravelingMerchantStock_1_4(seed) for seed in newSeeds})\n",
    "    return stocks\n",
    "\n",
    "def find_seeds(offset, num_weeks, n_trials=50000, print_rate=10000, verbose=True):\n",
    "    days = sorted([5+7*i for i in range(num_weeks)] + [7*(i+1) for i in range(num_weeks)])\n",
    "    last_days = [d for d in days[-2:]]\n",
    "    \n",
    "    t0 = time.time()\n",
    "    # load the initial state and check it\n",
    "    valid_seeds = []\n",
    "    stock = getInitialCarts(offset, days)\n",
    "    valid, bad_bundle = satisfyAllBundles(stock, bundles_by_id)\n",
    "    if valid:\n",
    "        valid_seeds.append(offset)            \n",
    "        if verbose:\n",
    "            print(f'Valid Seed found at {offset}')\n",
    "    \n",
    "    t0_inner = time.time()\n",
    "    # loop over all new trial weeks (pushing the seed forward 7 days)\n",
    "    for s in range(n_trials):\n",
    "        curr_seed = 7*s+offset\n",
    "        # compute the new seeds to check\n",
    "        offsets = [curr_seed + 5 + last_days[1], curr_seed + 7 + last_days[1]]\n",
    "        # roll over the inventory (pop old, push new)\n",
    "        stock = rollToNextSeeds(stock, offsets)\n",
    "        # validate the result\n",
    "        valid, bad_bundle = satisfyAllBundles(stock, bundles_by_id)\n",
    "\n",
    "        if valid:\n",
    "            valid_seeds.append(curr_seed+7)\n",
    "            if verbose:\n",
    "                print(f'Valid Seed found at {curr_seed+7}')\n",
    "\n",
    "        if verbose and s % print_rate == print_rate-1:\n",
    "            t1_inner = time.time()\n",
    "            print(f'\\tSolved {print_rate} in {t1_inner-t0_inner} seconds ({(print_rate)/(t1_inner-t0_inner)} seeds/sec)')\n",
    "            t0_inner = time.time()\n",
    "\n",
    "    t1 = time.time()\n",
    "    print(f'Solved {n_trials} in {t1-t0} seconds ({(n_trials)/(t1-t0)} seeds/sec)')\n",
    "    return valid_seeds"
   ]
  },
  {
   "cell_type": "markdown",
   "metadata": {},
   "source": [
    "# Testing C# Random speeds in cart checks / second"
   ]
  },
  {
   "cell_type": "code",
   "execution_count": 8,
   "metadata": {},
   "outputs": [
    {
     "name": "stdout",
     "output_type": "stream",
     "text": [
      "Fast Trial\n",
      "Solved 10000 in 0.7391963005065918 seconds (13528.206233103063 tps)\n",
      "Slow Trial\n",
      "Solved 10000 in 1.1658520698547363 seconds (8577.417545989336 tps)\n",
      "Ratio t(slow)/t(fast): 1.5771887238284952\n"
     ]
    }
   ],
   "source": [
    "print('Fast Trial')\n",
    "n_trials = 10000\n",
    "t0 = time.time()\n",
    "[getTravelingMerchantStock_1_4(i, CSRandom=CSRandomFast) for i in range(n_trials)]\n",
    "t1 = time.time()\n",
    "print(f'Solved {n_trials} in {t1-t0} seconds ({n_trials/(t1-t0)} tps)')\n",
    "CSRandom = CSRandomSlow\n",
    "print('Slow Trial')\n",
    "n_trials = 10000\n",
    "t2 = time.time()\n",
    "[getTravelingMerchantStock_1_4(i, CSRandom=CSRandomSlow) for i in range(n_trials)]\n",
    "t3 = time.time()\n",
    "print(f'Solved {n_trials} in {t3-t2} seconds ({n_trials/(t3-t2)} tps)')\n",
    "print(f'Ratio t(slow)/t(fast): {(t3-t2)/(t1-t0)}')"
   ]
  },
  {
   "cell_type": "markdown",
   "metadata": {},
   "source": [
    "# Bundle defs"
   ]
  },
  {
   "cell_type": "code",
   "execution_count": 14,
   "metadata": {},
   "outputs": [],
   "source": [
    "# each bundle is defined as a list of items (by name) followed by the number that must be achieved\n",
    "# for example some bundles have 6 items (like Animal) but only require 5 for completion\n",
    "bundles = [\n",
    "    [['L. Goat Milk', 'Large Milk', 'Large EggW', 'Large EggB', 'Duck Egg', 'Wool'], 5], # Animal\n",
    "    [['Cloth', 'Goat Cheese', 'Cheese'], 2], # Artisan\n",
    "    [['Fiddlehead Fern', 'Truffle', 'Maki Roll', 'Fried Egg'], 4], # Chef\n",
    "    [['Sea Urchin', 'Duck Feather'], 2], # Dye\n",
    "    [['Rabbit\\'s Foot', 'Pomegranate'], 2], # Enchanter\n",
    "    [['Catfish', 'Shad', 'Tiger Trout'], 3], # River\n",
    "#     [['Largemouth Bass', 'Carp', 'Bullhead', 'Sturgeon'], 4], # Lake\n",
    "#     [['Sardine', 'Tuna', 'Red Snapper', 'Tilapia'], 4], # Ocean\n",
    "#     [['Walleye', 'Bream', 'Eel'], 3], # Night\n",
    "#     [['Lobster', 'Crayfish', 'Shrimp', 'Snail', 'Periwinkle'], 2], #Crab pot\n",
    "    [['Pufferfish', 'Ghostfish', 'Sandfish', 'Woodskip'], 4], # Special Fish\n",
    "#     [['Chub'], 1] # Field Research\n",
    "  ]\n",
    "\n",
    "bundles_by_id = convertBundles(bundles)"
   ]
  },
  {
   "cell_type": "markdown",
   "metadata": {},
   "source": [
    "# Parallel search"
   ]
  },
  {
   "cell_type": "code",
   "execution_count": 10,
   "metadata": {
    "scrolled": false
   },
   "outputs": [
    {
     "name": "stdout",
     "output_type": "stream",
     "text": [
      "Solved 350000 in 17.047170639038086 seconds (19393.621692860273 seeds/sec)\n",
      "[2963, 2970, 2977, 2984, 2991, 46798, 187905, 284933]\n",
      "\n",
      "\n",
      "Solved 350000 in 17.679118156433105 seconds (18737.501260436093 seeds/sec)\n",
      "[484282, 504977, 505005]\n",
      "\n",
      "\n",
      "Solved 350000 in 18.314706325531006 seconds (18120.90715235753 seeds/sec)\n",
      "[801348, 801355, 965060, 965067, 965074, 965081]\n",
      "\n",
      "\n",
      "Solved 350000 in 18.874006748199463 seconds (17610.94299878454 seeds/sec)\n",
      "[1083431, 1083438, 1108727, 1111031, 1111038, 1111045, 1111052, 1111059, 1111066, 1111073, 1111080, 1111087, 1111094, 1234088, 1381753, 1381774, 1381781]\n",
      "\n",
      "\n",
      "Solved 350000 in 18.788318157196045 seconds (17687.202986107342 seeds/sec)\n",
      "[1547988, 1749714]\n",
      "\n",
      "\n",
      "\n",
      "\n",
      "Final Seeds\n",
      "[2963, 2970, 2977, 2984, 2991, 46798, 187905, 284933, 484282, 504977, 505005, 801348, 801355, 965060, 965067, 965074, 965081, 1083431, 1083438, 1108727, 1111031, 1111038, 1111045, 1111052, 1111059, 1111066, 1111073, 1111080, 1111087, 1111094, 1234088, 1381753, 1381774, 1381781, 1547988, 1749714]\n"
     ]
    }
   ],
   "source": [
    "if False:\n",
    "    n_blocks = 20000\n",
    "    n_blocks_print = 200\n",
    "    n_trials_per_block = (2**32) // n_blocks\n",
    "else:\n",
    "    n_blocks = 5\n",
    "    n_blocks_print = 1\n",
    "    n_trials_per_block = 50000\n",
    "n_weeks_search = 24\n",
    "\n",
    "valid_seeds = []\n",
    "t0 = time.time()\n",
    "for block_id in range(n_blocks):\n",
    "    block_start = block_id * n_trials_per_block * 7\n",
    "    block_end = (block_id+1) * n_trials_per_block * 7 -1\n",
    "    block_size = block_end - block_start + 1\n",
    "\n",
    "    # this is to parallelize the computation to search even faster\n",
    "    seed_lists = Parallel(n_jobs=4)(delayed(find_seeds)(o+block_start, n_weeks_search, n_trials=n_trials_per_block, verbose=False) for o in range(7))\n",
    "    new_seeds = list(chain.from_iterable(seed_lists))\n",
    "    valid_seeds.extend(new_seeds)\n",
    "    if block_id % n_blocks_print == n_blocks_print - 1:\n",
    "        t1 = time.time()\n",
    "        print(f'Solved {block_size*n_blocks_print} in {t1-t0} seconds ({block_size*n_blocks_print/(t1-t0+1)} seeds/sec)')\n",
    "        if len(new_seeds) != 0:\n",
    "            print(sorted(new_seeds))\n",
    "            print('\\n')\n",
    "        with open('ValidSeeds.json','w') as f:\n",
    "            json.dump({'bundles':bundles, 'seeds':valid_seeds}, f)\n",
    "        t0 = time.time()\n",
    "print('\\n\\nFinal Seeds')\n",
    "print(sorted(valid_seeds))"
   ]
  },
  {
   "cell_type": "markdown",
   "metadata": {},
   "source": [
    "# Non-Parallel Search"
   ]
  },
  {
   "cell_type": "code",
   "execution_count": 11,
   "metadata": {},
   "outputs": [
    {
     "name": "stdout",
     "output_type": "stream",
     "text": [
      "Solved 50000 in 8.367560863494873 seconds (5975.456983902539 seeds/sec)\n",
      "Solved 50000 in 8.481991052627563 seconds (5894.842341823849 seeds/sec)\n",
      "Solved 50000 in 8.246462106704712 seconds (6063.206178968306 seeds/sec)\n",
      "Solved 50000 in 8.306989669799805 seconds (6019.027588510891 seeds/sec)\n",
      "Solved 50000 in 8.393233060836792 seconds (5957.1799850646685 seeds/sec)\n",
      "Solved 50000 in 8.277472972869873 seconds (6040.490879750291 seeds/sec)\n",
      "Solved 50000 in 8.439227819442749 seconds (5924.712671555957 seeds/sec)\n",
      "Solved 350000 in 58.5136501789093 seconds (5981.510278881119 seeds/sec)\n",
      "[2963, 2970, 2977, 2984, 2991, 46798, 187905, 284933]\n"
     ]
    }
   ],
   "source": [
    "n_trials_per_lane = 50000\n",
    "# print_rate = 10000\n",
    "n_weeks_search = 24\n",
    "\n",
    "valid_seeds = []\n",
    "t0 = time.time()\n",
    "for offset in range(7):\n",
    "    seeds = find_seeds(offset, n_weeks_search, \n",
    "                       n_trials=n_trials_per_lane, \n",
    "#                        print_rate=print_rate,\n",
    "                       verbose=False)\n",
    "    valid_seeds.extend(seeds)\n",
    "t1 = time.time()\n",
    "print(f'Solved {n_trials_per_lane*7} in {t1-t0} seconds ({n_trials_per_lane*7/(t1-t0)} seeds/sec)')\n",
    "print(sorted(valid_seeds))"
   ]
  },
  {
   "cell_type": "markdown",
   "metadata": {},
   "source": [
    "# Checking a seed"
   ]
  },
  {
   "cell_type": "code",
   "execution_count": 12,
   "metadata": {},
   "outputs": [],
   "source": [
    "days = sorted([5+7*i for i in range(n_weeks_search)] + [7*(i+1) for i in range(n_weeks_search)])\n",
    "stock = getInitialCarts(2963, days)"
   ]
  },
  {
   "cell_type": "code",
   "execution_count": 13,
   "metadata": {},
   "outputs": [
    {
     "name": "stdout",
     "output_type": "stream",
     "text": [
      "Day 5:\n",
      "[{'name': 'Large EggW', 'cost': 475, 'quantity': 1}]\n",
      "Day 7:\n",
      "[{'name': 'Pufferfish', 'cost': 800, 'quantity': 1}]\n",
      "Day 19:\n",
      "[{'name': 'Large EggW', 'cost': 700, 'quantity': 1}]\n",
      "Day 21:\n",
      "[{'name': 'Pufferfish', 'cost': 1000, 'quantity': 1}, {'name': 'Large EggW', 'cost': 380, 'quantity': 1}]\n",
      "Day 26:\n",
      "[{'name': 'Pufferfish', 'cost': 600, 'quantity': 1}]\n",
      "Day 28:\n",
      "[{'name': 'Pufferfish', 'cost': 800, 'quantity': 1}, {'name': 'Large Milk', 'cost': 760, 'quantity': 1}]\n",
      "Day 33:\n",
      "[{'name': 'Fiddlehead Fern', 'cost': 600, 'quantity': 5}]\n",
      "Day 40:\n",
      "[{'name': 'Sandfish', 'cost': 900, 'quantity': 5}]\n",
      "Day 47:\n",
      "[{'name': 'Pufferfish', 'cost': 600, 'quantity': 1}, {'name': 'Large EggB', 'cost': 475, 'quantity': 5}, {'name': 'Catfish', 'cost': 1000, 'quantity': 1}]\n",
      "Day 49:\n",
      "[{'name': 'Shad', 'cost': 800, 'quantity': 1}, {'name': 'Sea Urchin', 'cost': 900, 'quantity': 1}]\n",
      "Day 54:\n",
      "[{'name': 'Pufferfish', 'cost': 600, 'quantity': 1}, {'name': 'Tiger Trout', 'cost': 600, 'quantity': 1}, {'name': 'Maki Roll', 'cost': 880, 'quantity': 1}]\n",
      "Day 56:\n",
      "[{'name': 'Fried Egg', 'cost': 900, 'quantity': 5}, {'name': 'Woodskip', 'cost': 700, 'quantity': 1}]\n",
      "Day 61:\n",
      "[{'name': 'Duck Feather', 'cost': 900, 'quantity': 1}, {'name': 'Cloth', 'cost': 1880, 'quantity': 5}]\n",
      "Day 63:\n",
      "[{'name': 'Pufferfish', 'cost': 900, 'quantity': 1}]\n",
      "Day 68:\n",
      "[{'name': 'Pufferfish', 'cost': 1000, 'quantity': 1}, {'name': 'Sandfish', 'cost': 300, 'quantity': 1}]\n",
      "Day 70:\n",
      "[{'name': 'Fried Egg', 'cost': 800, 'quantity': 1}, {'name': 'Large EggW', 'cost': 700, 'quantity': 1}, {'name': \"Rabbit's Foot\", 'cost': 2825, 'quantity': 5}]\n",
      "Day 77:\n",
      "[{'name': 'Large EggW', 'cost': 800, 'quantity': 1}]\n",
      "Day 82:\n",
      "[{'name': 'Pufferfish', 'cost': 1000, 'quantity': 1}]\n",
      "Day 84:\n",
      "[{'name': 'Duck Egg', 'cost': 900, 'quantity': 1}]\n",
      "Day 89:\n",
      "[{'name': 'Pufferfish', 'cost': 800, 'quantity': 1}]\n",
      "Day 91:\n",
      "[{'name': 'Pufferfish', 'cost': 1000, 'quantity': 1}, {'name': 'Large EggW', 'cost': 1000, 'quantity': 1}]\n",
      "Day 98:\n",
      "[{'name': 'Cheese', 'cost': 900, 'quantity': 1}, {'name': 'Sandfish', 'cost': 600, 'quantity': 5}, {'name': 'Pufferfish', 'cost': 1000, 'quantity': 1}]\n",
      "Day 103:\n",
      "[{'name': 'Sandfish', 'cost': 225, 'quantity': 1}]\n",
      "Day 105:\n",
      "[{'name': 'Cloth', 'cost': 1880, 'quantity': 1}]\n",
      "Day 110:\n",
      "[{'name': 'Pufferfish', 'cost': 1000, 'quantity': 1}, {'name': 'Ghostfish', 'cost': 225, 'quantity': 1}]\n",
      "Day 112:\n",
      "[{'name': 'Sandfish', 'cost': 1000, 'quantity': 1}]\n",
      "Day 117:\n",
      "[{'name': 'Duck Egg', 'cost': 600, 'quantity': 5}]\n",
      "Day 124:\n",
      "[{'name': 'Pufferfish', 'cost': 1000, 'quantity': 1}, {'name': 'Fried Egg', 'cost': 105, 'quantity': 1}, {'name': 'Large EggW', 'cost': 475, 'quantity': 1}]\n",
      "Day 126:\n",
      "[{'name': 'Pufferfish', 'cost': 600, 'quantity': 5}]\n",
      "Day 131:\n",
      "[{'name': 'Pufferfish', 'cost': 900, 'quantity': 1}]\n",
      "Day 133:\n",
      "[{'name': 'Pufferfish', 'cost': 1000, 'quantity': 1}]\n",
      "Day 140:\n",
      "[{'name': 'Pomegranate', 'cost': 700, 'quantity': 1}]\n",
      "Day 145:\n",
      "[{'name': 'Cloth', 'cost': 1880, 'quantity': 1}]\n",
      "Day 147:\n",
      "[{'name': 'Sandfish', 'cost': 900, 'quantity': 1}]\n",
      "Day 154:\n",
      "[{'name': 'Pufferfish', 'cost': 800, 'quantity': 1}]\n",
      "Day 159:\n",
      "[{'name': 'Pufferfish', 'cost': 800, 'quantity': 1}]\n",
      "Day 166:\n",
      "[{'name': 'Truffle', 'cost': 1875, 'quantity': 1}]\n",
      "Day 168:\n",
      "[{'name': 'Wool', 'cost': 1700, 'quantity': 1}]\n"
     ]
    }
   ],
   "source": [
    "all_bundle_ids = set(chain.from_iterable([b[0] for b in bundles_by_id]))\n",
    "for day, items in stock.items():\n",
    "    items_on_day = all_bundle_ids.intersection(items.keys())\n",
    "    if len(items_on_day) > 0:\n",
    "        print(f'Day {day}:')\n",
    "        print([{\n",
    "            'name': ObjectInfo[item_id][0], \n",
    "            'cost': items[item_id][0],\n",
    "            'quantity': items[item_id][1]\n",
    "        } for item_id in items_on_day])"
   ]
  },
  {
   "cell_type": "code",
   "execution_count": null,
   "metadata": {},
   "outputs": [],
   "source": []
  }
 ],
 "metadata": {
  "kernelspec": {
   "display_name": "Python 3",
   "language": "python",
   "name": "python3"
  },
  "language_info": {
   "codemirror_mode": {
    "name": "ipython",
    "version": 3
   },
   "file_extension": ".py",
   "mimetype": "text/x-python",
   "name": "python",
   "nbconvert_exporter": "python",
   "pygments_lexer": "ipython3",
   "version": "3.7.3"
  }
 },
 "nbformat": 4,
 "nbformat_minor": 2
}
